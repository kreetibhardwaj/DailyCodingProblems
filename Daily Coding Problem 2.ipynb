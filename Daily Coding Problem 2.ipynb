{
 "cells": [
  {
   "cell_type": "markdown",
   "id": "0ae6e92b",
   "metadata": {},
   "source": [
    "## Daily Coding Problem 2\n",
    "Given an array of integers, return a new array such that each element at index i of the new array \n",
    "is the product of all the numbers in the original array except the one at i.\n",
    "\n",
    "For example, if our input was [1, 2, 3, 4, 5], the expected output would be \n",
    "[120, 60, 40, 30, 24]. If our input was [3, 2, 1], the expected output would be [2, 3, 6]"
   ]
  },
  {
   "cell_type": "code",
   "execution_count": 8,
   "id": "6bc822bb",
   "metadata": {},
   "outputs": [
    {
     "name": "stdout",
     "output_type": "stream",
     "text": [
      "Final List [2, 3, 6]\n"
     ]
    }
   ],
   "source": [
    "import numpy as np\n",
    "##given_list = [1,2,3,4,5]\n",
    "given_list = [3, 2, 1]\n",
    "newlist = []\n",
    "for key,value in enumerate(given_list):\n",
    "    index = key\n",
    "    poped_elem = given_list.pop(key)\n",
    "    temp_list = given_list\n",
    "    ##print(temp_list)\n",
    "    elem = np.prod(temp_list)\n",
    "    ##print(elem)\n",
    "    newlist.append(elem)\n",
    "    given_list.insert(index,poped_elem)\n",
    "\n",
    "print(\"Final List\",newlist)\n",
    "    \n",
    "    \n",
    "    "
   ]
  }
 ],
 "metadata": {
  "kernelspec": {
   "display_name": "Python 3 (ipykernel)",
   "language": "python",
   "name": "python3"
  },
  "language_info": {
   "codemirror_mode": {
    "name": "ipython",
    "version": 3
   },
   "file_extension": ".py",
   "mimetype": "text/x-python",
   "name": "python",
   "nbconvert_exporter": "python",
   "pygments_lexer": "ipython3",
   "version": "3.9.6"
  }
 },
 "nbformat": 4,
 "nbformat_minor": 5
}
